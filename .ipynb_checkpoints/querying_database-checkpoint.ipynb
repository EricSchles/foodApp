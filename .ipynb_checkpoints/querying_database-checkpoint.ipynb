{
 "cells": [
  {
   "cell_type": "code",
   "execution_count": 7,
   "metadata": {},
   "outputs": [],
   "source": [
    "import py2neo\n",
    "from py2neo import Graph\n",
    "import os\n",
    "import glob\n",
    "from os import listdir\n",
    "from neo4j.v1 import GraphDatabase"
   ]
  },
  {
   "cell_type": "code",
   "execution_count": 20,
   "metadata": {},
   "outputs": [],
   "source": [
    "#connect to graph database\n",
    "my_graph = Graph('bolt://127.0.0.1:7687')"
   ]
  },
  {
   "cell_type": "code",
   "execution_count": 49,
   "metadata": {},
   "outputs": [],
   "source": [
    "#writing out the query explictly\n",
    "query = \"\"\"MATCH (c:component)-[:includes]-(i:ingredient)\n",
    "where i.name = 'green_beans'\n",
    "RETURN c\"\"\""
   ]
  },
  {
   "cell_type": "code",
   "execution_count": 62,
   "metadata": {},
   "outputs": [],
   "source": [
    "#writing out the above but with inserted variable\n",
    "ingredient = 'green_beans'\n",
    "query = \"\"\"MATCH (c:component)-[:includes]-(i:ingredient)\n",
    "where c.name = '{}'\n",
    "RETURN i\"\"\".format(ingredient)"
   ]
  },
  {
   "cell_type": "code",
   "execution_count": 64,
   "metadata": {},
   "outputs": [],
   "source": [
    "#return all things that are part of the component green_beans\n",
    "ingredient = 'green_beans'\n",
    "query = \"\"\"MATCH (c:component)-[:includes]-(i)\n",
    "where c.name = '{}'\n",
    "RETURN i\"\"\".format(ingredient)"
   ]
  },
  {
   "cell_type": "code",
   "execution_count": 65,
   "metadata": {},
   "outputs": [
    {
     "data": {
      "text/plain": [
       "[('i': (f26e4d5:component {name:\"sauteed onion and garlic\"})),\n",
       " ('i': (d541c5e:ingredient {name:\"green_beans\"}))]"
      ]
     },
     "execution_count": 65,
     "metadata": {},
     "output_type": "execute_result"
    }
   ],
   "source": [
    "a = my_graph.run(query)\n",
    "list(a)"
   ]
  },
  {
   "cell_type": "code",
   "execution_count": null,
   "metadata": {},
   "outputs": [],
   "source": [
    "MATCH (node1:Label1)-->(node2:Label2)\n",
    "WHERE node1.propertyA = {value}\n",
    "RETURN node2.propertyA, node2.propertyB"
   ]
  }
 ],
 "metadata": {
  "kernelspec": {
   "display_name": "Python 3",
   "language": "python",
   "name": "python3"
  },
  "language_info": {
   "codemirror_mode": {
    "name": "ipython",
    "version": 3
   },
   "file_extension": ".py",
   "mimetype": "text/x-python",
   "name": "python",
   "nbconvert_exporter": "python",
   "pygments_lexer": "ipython3",
   "version": "3.6.3"
  }
 },
 "nbformat": 4,
 "nbformat_minor": 2
}
